{
 "cells": [
  {
   "cell_type": "code",
   "execution_count": null,
   "id": "0660f9b0-c92f-4b15-bb56-990d49cc160d",
   "metadata": {
    "tags": []
   },
   "outputs": [],
   "source": [
    "import os\n",
    "os.environ[\"OMP_NUM_THREADS\"] = \"4\"\n",
    "from utils import *"
   ]
  },
  {
   "cell_type": "code",
   "execution_count": null,
   "id": "97270a5a-9b03-4f91-ad29-d42815de82ff",
   "metadata": {
    "tags": []
   },
   "outputs": [],
   "source": [
    "# Config plotting:\n",
    "mpl.rcParams['ps.useafm'] = True                                                     \n",
    "#rc('font',**{'family':'sans-serif','sans-serif':['FreeSans']}) \n",
    "mpl.rcParams['pdf.fonttype'] = 3"
   ]
  },
  {
   "cell_type": "markdown",
   "id": "26619fd9-43f7-47be-9a02-ec3bbdd6c634",
   "metadata": {},
   "source": [
    "### Read schedule"
   ]
  },
  {
   "cell_type": "code",
   "execution_count": null,
   "id": "0a517af2-afaf-4226-825a-9e1d254df99c",
   "metadata": {
    "tags": []
   },
   "outputs": [],
   "source": [
    "# Initialize\n",
    "schedule = toast.schedule.GroundSchedule()"
   ]
  },
  {
   "cell_type": "code",
   "execution_count": null,
   "id": "26a87d36-ac03-4256-b59b-a6a38c259d77",
   "metadata": {},
   "outputs": [],
   "source": [
    "schedule.site_name"
   ]
  },
  {
   "cell_type": "markdown",
   "id": "d38b1a8c-d570-45c3-8e60-de71e6432298",
   "metadata": {},
   "source": [
    "The schedule is created with ${\\tt make\\_schedule.sh}$ (see [Sec. 3](Sec3_Make_and_Analyze_schedule.ipynb)) or imported from [pwg-tds/pipe-s0002/v6/schedules/schedule_sat.txt](https://github.com/simonsobs/pwg-scripts/blob/24a8c8202e2f80fb9b5097ee0e2dcfe5c1c07114/pwg-tds/pipe-s0002/v6/schedules/schedule_sat.txt). "
   ]
  },
  {
   "cell_type": "code",
   "execution_count": null,
   "id": "86106ae5-71ae-46e7-8640-c2d475814dbb",
   "metadata": {
    "tags": []
   },
   "outputs": [],
   "source": [
    "# Read\n",
    "#schedule.read('schedules/schedule_sat_1day.txt') # generated with make_schedule.sh\n",
    "#schedule.read('schedule_sat_pipe-s0002-v6.txt') # Full SAT schedule for 1 yr (74 observations)\n",
    "#schedule.read('schedules/split_schedule/schedule_029.txt') # Split schedule for 1 observation\n",
    "schedule.read('schedules/schedule_sat_1day.txt')"
   ]
  },
  {
   "cell_type": "code",
   "execution_count": null,
   "id": "e07d7feb-db51-47ca-b1ff-aa123ac073a7",
   "metadata": {},
   "outputs": [],
   "source": [
    "schedule.telescope_name"
   ]
  },
  {
   "cell_type": "markdown",
   "id": "4b17b37e-c0d6-4720-a88d-4a3aae41ede6",
   "metadata": {},
   "source": [
    "### Create focalplane\n",
    "\n",
    "Here you can select the wafer slots, tube slots, and whether to thin the focal plane."
   ]
  },
  {
   "cell_type": "code",
   "execution_count": null,
   "id": "a9ba03be-c0c1-4fda-9c35-e8797d31e284",
   "metadata": {
    "tags": []
   },
   "outputs": [],
   "source": [
    "sample_rate = 40. #10. #Hz"
   ]
  },
  {
   "cell_type": "code",
   "execution_count": null,
   "id": "bf42b8d8-50b1-4838-a54b-3f3f4913f045",
   "metadata": {
    "tags": []
   },
   "outputs": [],
   "source": [
    "focalplane = sotoast.SOFocalplane(\n",
    "        hwfile=None,\n",
    "        telescope='SAT1',\n",
    "        sample_rate=sample_rate * u.Hz,\n",
    "        bands='SAT_f090',\n",
    "        wafer_slots='w25', \n",
    "        tube_slots=None,\n",
    "        thinfp=8,\n",
    "        comm=None,\n",
    "    )"
   ]
  },
  {
   "cell_type": "markdown",
   "id": "5df33ad4-4423-48fa-b56d-1c35413ac34b",
   "metadata": {},
   "source": [
    "### Create telescope from focalplane and schedule"
   ]
  },
  {
   "cell_type": "code",
   "execution_count": null,
   "id": "56baeb57-6fe9-4883-9162-071ac71f4e5a",
   "metadata": {
    "tags": []
   },
   "outputs": [],
   "source": [
    "telescope = toast.Telescope(name=\"SAT1\", \n",
    "                            focalplane=focalplane, \n",
    "                            site=toast.GroundSite(\"Atacama\", schedule.site_lat,\n",
    "                                            schedule.site_lon, schedule.site_alt))"
   ]
  },
  {
   "cell_type": "markdown",
   "id": "88ff5ba3-0e98-4f46-9784-718d8ddb08fb",
   "metadata": {},
   "source": [
    "### Create data object"
   ]
  },
  {
   "cell_type": "code",
   "execution_count": null,
   "id": "d89986c2-1fa8-44e7-98d6-3f5d2c0474e1",
   "metadata": {
    "tags": []
   },
   "outputs": [],
   "source": [
    "data = toast.Data()"
   ]
  },
  {
   "cell_type": "code",
   "execution_count": null,
   "id": "a2ecff31-9cc7-4830-9800-aaa72a6174d9",
   "metadata": {
    "editable": true,
    "slideshow": {
     "slide_type": ""
    },
    "tags": []
   },
   "outputs": [],
   "source": [
    "# This should be empty \n",
    "data "
   ]
  },
  {
   "cell_type": "markdown",
   "id": "09e89e6f-3613-4aa2-8447-9222f72ba83e",
   "metadata": {},
   "source": [
    "### Simulate a generic ground-based telescope scanning\n",
    "\n",
    "This simulates ground-based pointing in constant elevation scans for a telescope located at a particular site and using a pre-created schedule. Here we include HWP."
   ]
  },
  {
   "cell_type": "code",
   "execution_count": null,
   "id": "bc26c0d1-2a34-4cb3-a9ba-b7cc45b9e623",
   "metadata": {
    "tags": []
   },
   "outputs": [],
   "source": [
    "_, sim_gnd = apply_scanning(data, telescope, schedule)"
   ]
  },
  {
   "cell_type": "markdown",
   "id": "906d7ffe-63c0-45ef-ad00-4568b291b4ea",
   "metadata": {},
   "source": [
    "The data object will now contain (empty) observation instances, which otherwise can be uploaded from: \n",
    "- the context.yaml file (output of toast3 simulation, v4)\n",
    "- the h5 file (output of toast3 simulation, v6)"
   ]
  },
  {
   "cell_type": "code",
   "execution_count": null,
   "id": "ac7f1962-93da-4763-8957-c757e7aaf045",
   "metadata": {
    "tags": []
   },
   "outputs": [],
   "source": [
    "# Inspect the data\n",
    "#data.info"
   ]
  },
  {
   "cell_type": "code",
   "execution_count": null,
   "id": "13120d37-47b7-4dcb-8adc-512dcc4bcb7c",
   "metadata": {
    "tags": []
   },
   "outputs": [],
   "source": [
    "# Extract single instances from data.obs list, e.g.\n",
    "#data.obs[0].telescope\n",
    "for no, do in enumerate(data.obs):\n",
    "    print(data.obs[no].telescope)"
   ]
  },
  {
   "cell_type": "code",
   "execution_count": null,
   "id": "803be226-aae2-489d-bb2b-b14d93345761",
   "metadata": {
    "scrolled": true,
    "tags": []
   },
   "outputs": [],
   "source": [
    "# Signal should be empty, check first detector\n",
    "data.obs[0].detdata['signal'][0]"
   ]
  },
  {
   "cell_type": "code",
   "execution_count": null,
   "id": "439a1e88-ab4f-4927-ab90-50616f341646",
   "metadata": {
    "scrolled": true,
    "tags": []
   },
   "outputs": [],
   "source": [
    "# Explore the data manager instance\n",
    "data.obs[0].shared"
   ]
  },
  {
   "cell_type": "code",
   "execution_count": null,
   "id": "7ea9c914-1321-462d-9fc8-d9b0b362a8ec",
   "metadata": {
    "tags": []
   },
   "outputs": [],
   "source": [
    "# Plot\n",
    "fig,ax = plt.subplots(1,1,figsize=(6,1))\n",
    "ax.plot(data.obs[0].shared['times'][:100], data.obs[0].shared['hwp_angle'][:100])\n",
    "ax.set_xlabel('sec')\n",
    "ax.set_ylabel('HWP angle [rad]')\n",
    "\n",
    "fig,ax = plt.subplots(1,1,figsize=(6,1))\n",
    "ax.plot(data.obs[0].shared['times'], np.array(data.obs[0].shared['azimuth'])*180./np.pi)\n",
    "ax.set_xlabel('sec')\n",
    "ax.set_ylabel('Azimuth [deg]')\n",
    "\n",
    "fig,ax = plt.subplots(1,1,figsize=(6,1))\n",
    "ax.plot(data.obs[0].shared['times'], data.obs[0].shared['elevation'])\n",
    "ax.set_xlabel('sec')\n",
    "ax.set_ylabel('Elevation')"
   ]
  },
  {
   "cell_type": "markdown",
   "id": "419d4fc0-f552-48ec-8ed2-646590bbfc17",
   "metadata": {},
   "source": [
    "### Pointing"
   ]
  },
  {
   "cell_type": "code",
   "execution_count": null,
   "id": "e23c8345-86ca-4da5-91cd-3ffc581e1549",
   "metadata": {
    "tags": []
   },
   "outputs": [],
   "source": [
    "data, det_pointing_radec = apply_det_pointing_radec(data, sim_gnd)\n",
    "data, det_pointing_azel = apply_det_pointing_azel(data, sim_gnd)"
   ]
  },
  {
   "cell_type": "code",
   "execution_count": null,
   "id": "177097fa-9472-49f3-937d-48f8a41f68a6",
   "metadata": {
    "tags": []
   },
   "outputs": [],
   "source": [
    "fig,ax = plt.subplots(1,1,figsize=(6,2))\n",
    "ax.plot(data.obs[0].shared['times'], np.array(data.obs[0].shared['azimuth'])*180./np.pi)\n",
    "ax.set_ylabel('azimuth [deg]')"
   ]
  },
  {
   "cell_type": "markdown",
   "id": "23ac1efd-7240-407e-9d0d-7ef43b506471",
   "metadata": {},
   "source": [
    "### Pixel pointing healpix"
   ]
  },
  {
   "cell_type": "code",
   "execution_count": null,
   "id": "ba06f060-fd8a-4425-98ac-7e7d71b653f7",
   "metadata": {
    "tags": []
   },
   "outputs": [],
   "source": [
    "nside_out = 256 #2048 #256 #64 512"
   ]
  },
  {
   "cell_type": "code",
   "execution_count": null,
   "id": "1b939687-6517-4d88-b797-821dd39bde96",
   "metadata": {
    "tags": []
   },
   "outputs": [],
   "source": [
    "data, pixels_radec = apply_pixels_radec(data, det_pointing_radec, nside_out)"
   ]
  },
  {
   "cell_type": "markdown",
   "id": "e0cdca9f-7197-4897-8551-17f3f5250625",
   "metadata": {},
   "source": [
    "### Stokes Weights Radec"
   ]
  },
  {
   "cell_type": "code",
   "execution_count": null,
   "id": "a15b767d-1c6c-4879-aa18-153e75f63df4",
   "metadata": {
    "tags": []
   },
   "outputs": [],
   "source": [
    "data, weights_radec = apply_weights_radec(data, det_pointing_radec)"
   ]
  },
  {
   "cell_type": "markdown",
   "id": "0c49fcbb-bc25-4d20-86c9-70bb0355171c",
   "metadata": {
    "editable": true,
    "slideshow": {
     "slide_type": ""
    },
    "tags": []
   },
   "source": [
    "### Add signal\n",
    "\n",
    "Here we use as input the HEALPix format map that was generated in [Sec. 2](Sec2_Sky_maps.ipynb) and scan it to a detector timestream."
   ]
  },
  {
   "cell_type": "code",
   "execution_count": null,
   "id": "0e890209-696b-46b8-8d7e-c941afca641b",
   "metadata": {
    "editable": true,
    "slideshow": {
     "slide_type": ""
    },
    "tags": []
   },
   "outputs": [],
   "source": [
    "# Input map: signal only\n",
    "file = f'input_maps/cmb_SAT_f093_ns{nside_out}.fits' #mine\n",
    "#file = f'input_maps/reijo/cmb_SAT_f090.fits' #reijo's\n",
    "IQUmap = hp.read_map(file, field=[0,1,2])"
   ]
  },
  {
   "cell_type": "code",
   "execution_count": null,
   "id": "5c840b9d-d172-4609-8177-0a62854cc1a7",
   "metadata": {
    "tags": []
   },
   "outputs": [],
   "source": [
    "npol = 3\n",
    "for p in np.arange(npol):\n",
    "    hp.mollview(IQUmap[p])"
   ]
  },
  {
   "cell_type": "code",
   "execution_count": null,
   "id": "55dfc813-6997-4d2d-9bcb-21688cca3b4c",
   "metadata": {
    "tags": []
   },
   "outputs": [],
   "source": [
    "data, scan_map = apply_scan_map(data, file, pixels_radec, weights_radec)"
   ]
  },
  {
   "cell_type": "markdown",
   "id": "0c0b2e86-6e6f-446a-b504-2a5fbfe061bd",
   "metadata": {},
   "source": [
    "### Add noise"
   ]
  },
  {
   "cell_type": "code",
   "execution_count": null,
   "id": "d06fe653-96cf-46b3-a70b-79c4c1240505",
   "metadata": {
    "tags": []
   },
   "outputs": [],
   "source": [
    "_, noise_model = apply_noise_model(data)"
   ]
  },
  {
   "cell_type": "code",
   "execution_count": null,
   "id": "52fb3880-8b83-4aef-81c0-1bb431735841",
   "metadata": {
    "tags": []
   },
   "outputs": [],
   "source": [
    "data, sim_noise = apply_sim_noise(data)"
   ]
  },
  {
   "cell_type": "markdown",
   "id": "783ce0b2-1f82-46cd-9b23-de91d405fd4a",
   "metadata": {
    "editable": true,
    "slideshow": {
     "slide_type": ""
    },
    "tags": []
   },
   "source": [
    "### Save HDF5"
   ]
  },
  {
   "cell_type": "code",
   "execution_count": null,
   "id": "ce97bdd2-f625-4826-9bdb-49fecd53c257",
   "metadata": {
    "tags": []
   },
   "outputs": [],
   "source": [
    "save_hdf5 = toast.ops.SaveHDF5(name=\"save_hdf5\")\n",
    "#hdf5_path = os.path.join('outputs', \"hdf5\")\n",
    "hdf5_path = 'outputs'\n",
    "#hdf5_path = 'outputs_reijo'\n",
    "if not os.path.isdir(hdf5_path):\n",
    "    os.makedirs(hdf5_path)\n",
    "save_hdf5.volume = hdf5_path\n",
    "save_hdf5.apply(data)"
   ]
  },
  {
   "cell_type": "code",
   "execution_count": null,
   "id": "dfbdc25a-b723-4d78-b726-cab3fe6e2135",
   "metadata": {
    "tags": []
   },
   "outputs": [],
   "source": [
    "# To load\n",
    "import toast\n",
    "import toast.io\n",
    "# Manage MPI\n",
    "# Take the global number of processes available (MPI.COMM_WORLD) \n",
    "# and divide them into groups. Each process group is assigned one or more observations. \n",
    "toast_comm = toast.Comm() #default: world=None, groupsize=0"
   ]
  },
  {
   "cell_type": "code",
   "execution_count": null,
   "id": "cbafd008-fa61-4c53-874b-0a02fa5e4e81",
   "metadata": {
    "tags": []
   },
   "outputs": [],
   "source": [
    "ob = toast.io.load_hdf5(f'{hdf5_path}/obs_south-0-16_2884568106.h5', toast_comm)"
   ]
  },
  {
   "cell_type": "code",
   "execution_count": null,
   "id": "d2a3d307-0848-4ef3-85e0-7f48c05b9103",
   "metadata": {
    "tags": []
   },
   "outputs": [],
   "source": [
    "# Inspect\n",
    "ob"
   ]
  },
  {
   "cell_type": "markdown",
   "id": "381573f0-ca26-46ba-9598-ec22c603a072",
   "metadata": {},
   "source": [
    "### Make it into context file\n",
    "\n",
    "This can easily be read in AxisManager form, for pre-processing purposes."
   ]
  },
  {
   "cell_type": "code",
   "execution_count": null,
   "id": "d5206ab7-d8fa-4d85-8133-1c8a9eaef044",
   "metadata": {
    "tags": []
   },
   "outputs": [],
   "source": [
    "import write_context"
   ]
  },
  {
   "cell_type": "code",
   "execution_count": null,
   "id": "ee9eced6-9842-422a-95cf-426e4528e79e",
   "metadata": {
    "tags": []
   },
   "outputs": [],
   "source": [
    "export_dirs = [f\"{hdf5_path}/\"]  # Directory to search for HDF data files\n",
    "context_dir = f\"{export_dirs[0]}\"  #context_south-0-29\"  # Change this to desired output context directory\n",
    "if not os.path.isfile(f'{context_dir}context.yaml'):\n",
    "    write_context.create_context(context_dir, export_dirs) #TODO: currently exportdir and contextdir"
   ]
  },
  {
   "cell_type": "code",
   "execution_count": null,
   "id": "0bd29a3d-feeb-44d9-a5d7-9bea8b5d8529",
   "metadata": {},
   "outputs": [],
   "source": [
    "#TODO: currently exportdir and contextdir need to match for Sec.5 to read h5 file"
   ]
  },
  {
   "cell_type": "markdown",
   "id": "334a206d-6ff8-4de5-950a-51d436ff51fa",
   "metadata": {},
   "source": [
    "#### Continue to the next section\n",
    "\n",
    "Go to [Section 5 - Pre-process the data and make maps](Sec5_Preprocess_TOD_Make_maps.ipynb)."
   ]
  }
 ],
 "metadata": {
  "kernelspec": {
   "display_name": "Python 3 (ipykernel)",
   "language": "python",
   "name": "python3"
  },
  "language_info": {
   "codemirror_mode": {
    "name": "ipython",
    "version": 3
   },
   "file_extension": ".py",
   "mimetype": "text/x-python",
   "name": "python",
   "nbconvert_exporter": "python",
   "pygments_lexer": "ipython3",
   "version": "3.10.8"
  }
 },
 "nbformat": 4,
 "nbformat_minor": 5
}
