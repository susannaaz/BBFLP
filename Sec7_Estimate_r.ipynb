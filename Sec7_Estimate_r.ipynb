{
 "cells": [
  {
   "cell_type": "markdown",
   "id": "4ebbc3c3-31f2-4dd0-81ba-a47156cef1d2",
   "metadata": {},
   "source": [
    "# Analytic estimation of $r$"
   ]
  },
  {
   "cell_type": "code",
   "execution_count": 1,
   "id": "a399e874-6d64-41ed-bf48-1e6b1cdd0b51",
   "metadata": {
    "tags": []
   },
   "outputs": [],
   "source": [
    "from utils import *"
   ]
  },
  {
   "cell_type": "markdown",
   "id": "809f16ce-85a5-4b57-bf59-20377390cd92",
   "metadata": {},
   "source": [
    "### Import the decoupled $C_\\ell$\n",
    "\n",
    "We can use the spectra decoupled from the transfer function estimated in the previous section, and select the $B$-mode component to proceed with the analytic estimation of $r$. "
   ]
  },
  {
   "cell_type": "code",
   "execution_count": 2,
   "id": "ea4de05f-2732-4dfb-a44e-24b0657dd2f8",
   "metadata": {
    "tags": []
   },
   "outputs": [],
   "source": [
    "# Import decoupled spectrum\n",
    "nside = 64\n",
    "fname_transferval = f'bbmaster/out_CMBl/transfer/transfer_validation.npz'\n",
    "transfval = np.load(fname_transferval)\n",
    "cl_dec = transfval['decoupled_cl'] #EE, EB, BE, BB\n",
    "ecl_dec = transfval['error_decoupled_cl']"
   ]
  },
  {
   "cell_type": "code",
   "execution_count": 3,
   "id": "28b6d6dd-bd6e-4fd2-88e9-e7c6742bbfbe",
   "metadata": {
    "tags": []
   },
   "outputs": [],
   "source": [
    "# Select only B-mode\n",
    "cl_bb = cl_dec[3]"
   ]
  },
  {
   "cell_type": "markdown",
   "id": "6228b305-5ed4-484a-8584-45a621cced9e",
   "metadata": {},
   "source": [
    "### Estimate covariance\n",
    "\n",
    "To estimate the covariance analytically, we use the ``*Knox formula*'':\n",
    "$${\\sf \\Sigma}_\\ell^{a,b} \\equiv \\langle \\Delta\\hat{{\\sf C}}_\\ell^{a,b} \\Delta\\hat{{\\sf C}}_\\ell^{c,d} \\rangle = \\delta_{\\ell \\ell'} \\frac{{\\sf C}_\\ell^{a,c}{\\sf C}_\\ell^{b,d} + {\\sf C}_\\ell^{a,d}{\\sf C}_\\ell^{b,c}}{(2\\ell +1)\\Delta\\ell \\, f_{sky}}$$\n",
    "\n",
    "Here, we assume 10% of the sky, which is compatible with the full SAT observation patch, and $\\Delta\\ell=1$. "
   ]
  },
  {
   "cell_type": "code",
   "execution_count": 4,
   "id": "7e51a44a-ba3d-402e-8be7-9a63c51b6eb9",
   "metadata": {
    "tags": []
   },
   "outputs": [],
   "source": [
    "# Useful defs\n",
    "nls = len(cl_bb)\n",
    "ls = np.arange(nls)\n",
    "fsky = 0.1"
   ]
  },
  {
   "cell_type": "code",
   "execution_count": 5,
   "id": "ae8c7ca9-f913-4560-8ecd-0735c4eb3c1f",
   "metadata": {
    "tags": []
   },
   "outputs": [],
   "source": [
    "# Calculate analytic covariance \n",
    "fl = 1./((2*ls+1)*fsky) \n",
    "noi = nl_theory(ls) # white noise \n",
    "cl_signoi = cl_bb + noi\n",
    "covar = (2 * cl_signoi * cl_signoi)*fl\n",
    "cov = np.diag(covar) # [nls, nls]\n",
    "invcov = np.linalg.inv(cov) # inverse covariance"
   ]
  },
  {
   "cell_type": "markdown",
   "id": "db727af2-050b-4d9f-a819-bbc4d3e049ac",
   "metadata": {},
   "source": [
    "### Analytic estimate of r"
   ]
  },
  {
   "cell_type": "markdown",
   "id": "6dbd4139-db52-4206-a78d-d300ae3a63c1",
   "metadata": {},
   "source": [
    "We now proceed to make a ``dirty'' estimate of $r$.\n",
    "\n",
    "To do so, we can minimize a standard $\\chi^2$ of the form\n",
    "${\\left(C_\\ell^{\\text{data}} - C_\\ell^{\\text{theory}}\\right)}^T {\\Sigma_\\ell^{-1}} {\\left(C_\\ell^{\\text{data}} - C_\\ell^{\\text{theory}}\\right)} $.\n",
    "\n",
    "The theory is estimated as the sum of the tensor and the lensing components of the CMB: $ C_\\ell^{\\text{theory}} = r C_\\ell(r = 1) + A_{\\text{lens}} C_\\ell^{\\text{lens}} $\n",
    "\n",
    "Assuming a single frequency observation of a CMB-only sky, with no $E$-$B$ contaminations in the observed patch of the sky (e.g. from the mask or filterings, which we have supposedly taken care of in the previous Section), the tensor-to-scalar ratio can be recovered analytically as:\n",
    "$$r_{\\text{best fit}} = \\frac{{\\mathbf{C}_{\\ell,\\text{primordial}}^T \\cdot \\mathbf{C}^{-1} \\cdot (\\mathbf{d} - \\mathbf{A}_{\\text{lens}} \\cdot \\mathbf{C}_{\\ell,\\text{lensing}})}}{{\\mathbf{C}_{\\ell,\\text{primordial}}^T \\cdot \\mathbf{C}_\\ell^{-1} \\cdot \\mathbf{C}_{\\ell,\\text{primordial}}}}$$\n",
    "$$\\sigma(r) = \\frac{1}{\\sqrt{\\mathbf{C}_{\\text{primordial}_\\ell}^T \\cdot \\mathbf{C}^{-1} \\cdot \\mathbf{C}_{\\text{primordial}_\\ell}}}$$\n"
   ]
  },
  {
   "cell_type": "code",
   "execution_count": 9,
   "id": "0748908b-97eb-4cca-816a-ba303d531d43",
   "metadata": {
    "tags": []
   },
   "outputs": [],
   "source": [
    "# Minimize chi^2\n",
    "res = minimize(chi2, [0.], method='Powell', args=(cl_bb))\n",
    "# Define CMB components\n",
    "cl_d = cl_bb \n",
    "cl_t = (cl_theory(res.x, A_lens=1.)).flatten()\n",
    "cl_l = (cl_theory(0., A_lens=1.)).flatten()\n",
    "cl_p = (cl_theory(1., A_lens=0.)).flatten()\n",
    "num = np.transpose(cl_p).dot(invcov).dot(cl_d - cl_l)\n",
    "den = np.transpose(cl_p).dot(invcov).dot(cl_p)"
   ]
  },
  {
   "cell_type": "code",
   "execution_count": 11,
   "id": "7b2f13cd-8353-42a5-8e17-4b5df51dc903",
   "metadata": {
    "tags": []
   },
   "outputs": [
    {
     "name": "stdout",
     "output_type": "stream",
     "text": [
      "0.0001342320925694566\n",
      "0.00023371567435623902\n"
     ]
    }
   ],
   "source": [
    "# Best fit r, sigma(r)\n",
    "r_best_fit = num / den\n",
    "print(r_best_fit) \n",
    "sigma_r = 1./np.sqrt(den) \n",
    "print(sigma_r)"
   ]
  }
 ],
 "metadata": {
  "kernelspec": {
   "display_name": "master_env",
   "language": "python",
   "name": "master_env"
  },
  "language_info": {
   "codemirror_mode": {
    "name": "ipython",
    "version": 3
   },
   "file_extension": ".py",
   "mimetype": "text/x-python",
   "name": "python",
   "nbconvert_exporter": "python",
   "pygments_lexer": "ipython3",
   "version": "3.9.18"
  }
 },
 "nbformat": 4,
 "nbformat_minor": 5
}
