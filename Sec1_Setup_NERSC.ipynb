{
 "cells": [
  {
   "cell_type": "markdown",
   "metadata": {
    "colab_type": "text",
    "id": "6DA_syE9TrBh"
   },
   "source": [
    "# Running on NERSC\n",
    "\n",
    "Various choices are available for executing the following notebooks. The diverse branches will provide instructions tailored to various machines, and here is a general guideline customized to NERSC."
   ]
  },
  {
   "cell_type": "markdown",
   "metadata": {},
   "source": [
    "### Option 1 (*recommended*) - Already made conda environment \n",
    "\n",
    " --- \n",
    " \n",
    "A custom conda environment has been created and is accessible at `/pscratch/sd/s/susannaz/conda_envs/master_env/`. To use a it as a python kernel within these notebooks:\n",
    "```\n",
    "$ conda activate /pscratch/sd/s/susannaz/conda_envs/master_env/\n",
    "$ python -m ipykernel install --user --name master_env --display-name master_env\n",
    "```\n",
    "This will create the kernelspec `master_env` in `/global/<u>/<username>/.local/share/jupyter/kernels/master_env`. Now you can log in to __[jupyter.nersc.gov](https://jupyter.nersc.gov/hub/home)__ , select the “Login Node” option (we don't need a full compute node to run these notebooks), and then  change the kernel and select the `master_env` option.\n",
    "\n"
   ]
  },
  {
   "cell_type": "markdown",
   "metadata": {},
   "source": [
    "### Option 2 - Make your own soconda environment\n",
    "\n",
    " --- \n",
    "\n",
    "Create the conda env in a specific directory and activate it:\n",
    "```\n",
    "$ cd /global/u1/s/susannaz/Software/conda_envs/\n",
    "$ conda create --clone /global/common/software/sobs/perlmutter/conda_envs/soconda_20230928_0.0.5/ -p ./bbflp_venv/\n",
    "$ conda activate /global/u1/<u>/<username>/Software/conda_envs/bbflp_venv\n",
    "```\n",
    "\n",
    "Then you can install whatever you want e.g. with pip:\n",
    "```\n",
    "$ pip install jupyter notebook\n",
    "```\n",
    "\n",
    "To be able to use this as a Jupyter kernel within your notebooks, run: \n",
    "```\n",
    "$ python3 -m ipykernel install --prefix=/global/u1/<u>/<username>/.local --name=bbflp_venv --display-name=bbflp_venv\n",
    "```\n",
    "\n"
   ]
  },
  {
   "cell_type": "markdown",
   "metadata": {},
   "source": [
    "### Option 3 - Create your own virtualenv\n",
    "\n",
    " --- \n",
    " \n",
    "Follow the steps below to create a custom virtualenv called `bbtest`:\n",
    "```\n",
    "$ module load python/3.9-anaconda-2021.11\n",
    "$ pip install --user virtualenv\n",
    "$ virtualenv -p  python bbtest\n",
    "$ source /global/u1/<u>/<username>/bbtest/bin/activate\n",
    "```\n",
    "\n",
    "Then create a [`requirements.txt`](requirements.txt) file inside the virtualenv directory `/global/u1/<u>/<username>/bbtest/` including the packages you want to install inside your environment. Install these with:\n",
    "```\n",
    "$ pip3 install -r /global/u1/<u>/<username>/bbtest/requirements.txt\n",
    "```\n",
    "\n",
    "To be able to use this as a Jupyter kernel within your notebooks, run: \n",
    "```\n",
    "$ python3 -m ipykernel install --prefix=/global/u1/<u>/<username>/.local --name=bbtest --display-name=bbtest\n",
    "```\n",
    "\n",
    "Optional - add the following to your `.bashrc`:\n",
    "```\n",
    "$ module load python/3.9-anaconda-2021.11\n",
    "$ source /global/u1/<u>/<username>/bbtest/bin/activate\n",
    "```"
   ]
  },
  {
   "cell_type": "markdown",
   "metadata": {},
   "source": [
    "#### Continue to the next section\n",
    "\n",
    "Go to [Section 2 - Sky maps](Sec2_Sky_maps.ipynb)."
   ]
  }
 ],
 "metadata": {
  "colab": {
   "collapsed_sections": [
    "7wuon2PcQDH3",
    "UqVls-28Fe6d",
    "hRBTzr5ghknb",
    "smN7aD_qfS0X",
    "Hdr6rmILNbUE",
    "lap_xzTkn5s5",
    "ydVE2Jvup42D",
    "LsvxgUOow66A",
    "sRfS65NaDKuX"
   ],
   "name": "Advanced ACT DR4 Combined data products ",
   "provenance": [],
   "toc_visible": true
  },
  "kernelspec": {
   "display_name": "master_env",
   "language": "python",
   "name": "master_env"
  },
  "language_info": {
   "codemirror_mode": {
    "name": "ipython",
    "version": 3
   },
   "file_extension": ".py",
   "mimetype": "text/x-python",
   "name": "python",
   "nbconvert_exporter": "python",
   "pygments_lexer": "ipython3",
   "version": "3.9.18"
  }
 },
 "nbformat": 4,
 "nbformat_minor": 4
}
