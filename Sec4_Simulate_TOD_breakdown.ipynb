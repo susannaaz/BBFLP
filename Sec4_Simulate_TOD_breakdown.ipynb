{
 "cells": [
  {
   "cell_type": "code",
   "execution_count": 22,
   "id": "0660f9b0-c92f-4b15-bb56-990d49cc160d",
   "metadata": {},
   "outputs": [],
   "source": [
    "from utils import *"
   ]
  },
  {
   "cell_type": "code",
   "execution_count": 2,
   "id": "97270a5a-9b03-4f91-ad29-d42815de82ff",
   "metadata": {},
   "outputs": [],
   "source": [
    "# Config plotting:\n",
    "mpl.rcParams['ps.useafm'] = True                                                     \n",
    "rc('font',**{'family':'sans-serif','sans-serif':['FreeSans']}) \n",
    "mpl.rcParams['pdf.fonttype'] = 3"
   ]
  },
  {
   "cell_type": "markdown",
   "id": "26619fd9-43f7-47be-9a02-ec3bbdd6c634",
   "metadata": {},
   "source": [
    "### Read schedule"
   ]
  },
  {
   "cell_type": "code",
   "execution_count": 3,
   "id": "0a517af2-afaf-4226-825a-9e1d254df99c",
   "metadata": {},
   "outputs": [],
   "source": [
    "schedule = toast.schedule.GroundSchedule()"
   ]
  },
  {
   "cell_type": "markdown",
   "id": "d38b1a8c-d570-45c3-8e60-de71e6432298",
   "metadata": {},
   "source": [
    "The schedule is created with ${\\tt make\\_schedule.sh}$ (see [Sec. 3](Sec3_Make_and_Analyze_schedule.ipynb)) or imported from [pwg-tds/pipe-s0002/v6/schedules/schedule_sat.txt](https://github.com/simonsobs/pwg-scripts/blob/24a8c8202e2f80fb9b5097ee0e2dcfe5c1c07114/pwg-tds/pipe-s0002/v6/schedules/schedule_sat.txt). "
   ]
  },
  {
   "cell_type": "code",
   "execution_count": 4,
   "id": "86106ae5-71ae-46e7-8640-c2d475814dbb",
   "metadata": {},
   "outputs": [
    {
     "name": "stdout",
     "output_type": "stream",
     "text": [
      "TOAST INFO: Loading schedule from schedules/split_schedule/schedule040.txt\n",
      "TOAST INFO: Loaded 1 scans from schedules/split_schedule/schedule040.txt totaling 19.9 minutes.\n"
     ]
    }
   ],
   "source": [
    "#schedule.read('schedules/schedule_sat_10min.txt') # generated with make_schedule.sh\n",
    "#schedule.read('schedule_sat_pipe-s0002-v6.txt') # Full SAT schedule for 1 yr (74 observations)\n",
    "schedule.read('schedules/split_schedule/schedule040.txt') # Split schedule for 1 observation"
   ]
  },
  {
   "cell_type": "markdown",
   "id": "4b17b37e-c0d6-4720-a88d-4a3aae41ede6",
   "metadata": {},
   "source": [
    "### Create focalplane\n",
    "\n",
    "Here you can select the wafer slots, tube slots, and whether to thin the focal plane."
   ]
  },
  {
   "cell_type": "code",
   "execution_count": 5,
   "id": "a9ba03be-c0c1-4fda-9c35-e8797d31e284",
   "metadata": {},
   "outputs": [],
   "source": [
    "sample_rate = 10. #Hz"
   ]
  },
  {
   "cell_type": "code",
   "execution_count": 6,
   "id": "bf42b8d8-50b1-4838-a54b-3f3f4913f045",
   "metadata": {},
   "outputs": [],
   "source": [
    "focalplane = sotoast.SOFocalplane(\n",
    "        hwfile=None,\n",
    "        telescope='SAT1',\n",
    "        sample_rate=sample_rate * u.Hz,\n",
    "        bands='SAT_f090',\n",
    "        wafer_slots='w25', \n",
    "        tube_slots=None,\n",
    "        thinfp=None,\n",
    "        comm=None,\n",
    "    )"
   ]
  },
  {
   "cell_type": "markdown",
   "id": "5df33ad4-4423-48fa-b56d-1c35413ac34b",
   "metadata": {},
   "source": [
    "### Create telescope from focalplane and schedule"
   ]
  },
  {
   "cell_type": "code",
   "execution_count": 7,
   "id": "56baeb57-6fe9-4883-9162-071ac71f4e5a",
   "metadata": {},
   "outputs": [],
   "source": [
    "telescope = toast.Telescope(name=\"SAT1\", \n",
    "                            focalplane=focalplane, \n",
    "                            site=toast.GroundSite(\"Atacama\", schedule.site_lat,\n",
    "                                            schedule.site_lon, schedule.site_alt))"
   ]
  },
  {
   "cell_type": "markdown",
   "id": "88ff5ba3-0e98-4f46-9784-718d8ddb08fb",
   "metadata": {},
   "source": [
    "### Create data object"
   ]
  },
  {
   "cell_type": "code",
   "execution_count": 8,
   "id": "d89986c2-1fa8-44e7-98d6-3f5d2c0474e1",
   "metadata": {},
   "outputs": [],
   "source": [
    "data = toast.Data()"
   ]
  },
  {
   "cell_type": "code",
   "execution_count": 9,
   "id": "a2ecff31-9cc7-4830-9800-aaa72a6174d9",
   "metadata": {
    "editable": true,
    "slideshow": {
     "slide_type": ""
    },
    "tags": []
   },
   "outputs": [
    {
     "data": {
      "text/plain": [
       "<Data with 0 Observations:\n",
       "Metadata:\n",
       "{}\n",
       ">"
      ]
     },
     "execution_count": 9,
     "metadata": {},
     "output_type": "execute_result"
    }
   ],
   "source": [
    "# This should be empty \n",
    "data "
   ]
  },
  {
   "cell_type": "markdown",
   "id": "09e89e6f-3613-4aa2-8447-9222f72ba83e",
   "metadata": {},
   "source": [
    "### Simulate a generic ground-based telescope scanning\n",
    "\n",
    "This simulates ground-based pointing in constant elevation scans for a telescope located at a particular site and using a pre-created schedule. Here we include HWP."
   ]
  },
  {
   "cell_type": "code",
   "execution_count": 10,
   "id": "bc26c0d1-2a34-4cb3-a9ba-b7cc45b9e623",
   "metadata": {},
   "outputs": [],
   "source": [
    "_, sim_gnd = apply_scanning(data, telescope, schedule)"
   ]
  },
  {
   "cell_type": "markdown",
   "id": "906d7ffe-63c0-45ef-ad00-4568b291b4ea",
   "metadata": {},
   "source": [
    "The data object will now contain (empty) observation instances, which otherwise can be uploaded from: \n",
    "- the context.yaml file (output of toast3 simulation, v4)\n",
    "- the h5 file (output of toast3 simulation, v6)"
   ]
  },
  {
   "cell_type": "code",
   "execution_count": 11,
   "id": "8749464e-0837-425e-8caf-3fa9ebd7e832",
   "metadata": {},
   "outputs": [],
   "source": [
    "# TODO: make comparison with yaml and h5"
   ]
  },
  {
   "cell_type": "code",
   "execution_count": 12,
   "id": "ac7f1962-93da-4763-8957-c757e7aaf045",
   "metadata": {},
   "outputs": [
    {
     "data": {
      "text/plain": [
       "<bound method Data.info of <Data with 1 Observations:\n",
       "<Observation\n",
       "  name = 'south-0-6'\n",
       "  uid = '3433341973'  group has 1 processes\n",
       "  telescope = <Telescope 'SAT1': uid = 4101420846, site = <GroundSite 'Atacama' : uid = 2329977149, lon = -67.786 deg, lat = -22.957999999999995 deg, alt = 5199.999999999236 m, weather = <SimWeather : 'atacama', year = 2025, month = 5, hour = 6, site UID = 2329977149, realization = 0, median = False)>, focalplane = <Focalplane: 860 detectors, sample_rate = 10.0 Hz, FOV = 35.6 deg, detectors = [w25_p000_SAT_f090_A .. w25_p431_SAT_f090_B]>>\n",
       "  session = <Session 'south-0-6': uid = 3433341973, start = 2025-07-02 05:55:28+00:00, end = 2025-07-02 06:15:22.900000+00:00>\n",
       "  scan_el = 55.0 deg\n",
       "  scan_min_az = 1.8887987487087312 rad\n",
       "  scan_max_az = 2.5998390215702853 rad\n",
       "  scan_min_el = 0.9599310885968813 rad\n",
       "  scan_max_el = 0.9599310885968813 rad\n",
       "  11950 total samples (11950 local)\n",
       "  shared:  <SharedDataManager\n",
       "    times (column): shape=(11950,), dtype=float64\n",
       "    position (column): shape=(11950, 3), dtype=float64\n",
       "    velocity (column): shape=(11950, 3), dtype=float64\n",
       "    azimuth (column): shape=(11950,), dtype=float64\n",
       "    elevation (column): shape=(11950,), dtype=float64\n",
       "    boresight_azel (column): shape=(11950, 4), dtype=float64\n",
       "    boresight_radec (column): shape=(11950, 4), dtype=float64\n",
       "    hwp_angle (column): shape=(11950,), dtype=float64\n",
       "    flags (column): shape=(11950,), dtype=uint8>\n",
       "  detdata:  <DetDataManager 860 local detectors, 11950 samples\n",
       "    signal: shape=(860, 11950), dtype=float64, units='K'\n",
       "    flags: shape=(860, 11950), dtype=uint8, units=''>\n",
       "  intervals:  <IntervalsManager 13 lists\n",
       "  throw_leftright: 24 intervals\n",
       "  throw_rightleft: 24 intervals\n",
       "  throw: 48 intervals\n",
       "  scan_leftright: 24 intervals\n",
       "  turn_leftright: 24 intervals\n",
       "  scan_rightleft: 24 intervals\n",
       "  turn_rightleft: 23 intervals\n",
       "  elnod: 0 intervals\n",
       "  scanning: 48 intervals\n",
       "  turnaround: 47 intervals\n",
       "  sun_up: 0 intervals\n",
       "  sun_close: 0 intervals>\n",
       ">\n",
       "Metadata:\n",
       "{}\n",
       ">>"
      ]
     },
     "execution_count": 12,
     "metadata": {},
     "output_type": "execute_result"
    }
   ],
   "source": [
    "# Inspect the data\n",
    "data.info"
   ]
  },
  {
   "cell_type": "code",
   "execution_count": 13,
   "id": "13120d37-47b7-4dcb-8adc-512dcc4bcb7c",
   "metadata": {},
   "outputs": [
    {
     "data": {
      "text/plain": [
       "<Telescope 'SAT1': uid = 4101420846, site = <GroundSite 'Atacama' : uid = 2329977149, lon = -67.786 deg, lat = -22.957999999999995 deg, alt = 5199.999999999236 m, weather = <SimWeather : 'atacama', year = 2025, month = 5, hour = 6, site UID = 2329977149, realization = 0, median = False)>, focalplane = <Focalplane: 860 detectors, sample_rate = 10.0 Hz, FOV = 35.6 deg, detectors = [w25_p000_SAT_f090_A .. w25_p431_SAT_f090_B]>>"
      ]
     },
     "execution_count": 13,
     "metadata": {},
     "output_type": "execute_result"
    }
   ],
   "source": [
    "# Extract single instances from data.obs list, e.g.\n",
    "data.obs[0].telescope"
   ]
  },
  {
   "cell_type": "code",
   "execution_count": 14,
   "id": "803be226-aae2-489d-bb2b-b14d93345761",
   "metadata": {
    "scrolled": true
   },
   "outputs": [
    {
     "data": {
      "text/plain": [
       "array([0., 0., 0., ..., 0., 0., 0.])"
      ]
     },
     "execution_count": 14,
     "metadata": {},
     "output_type": "execute_result"
    }
   ],
   "source": [
    "# Signal should be empty, check first detector\n",
    "data.obs[0].detdata['signal'][0]"
   ]
  },
  {
   "cell_type": "code",
   "execution_count": 15,
   "id": "439a1e88-ab4f-4927-ab90-50616f341646",
   "metadata": {
    "scrolled": true
   },
   "outputs": [
    {
     "data": {
      "text/plain": [
       "<SharedDataManager\n",
       "    times (column): shape=(11950,), dtype=float64\n",
       "    position (column): shape=(11950, 3), dtype=float64\n",
       "    velocity (column): shape=(11950, 3), dtype=float64\n",
       "    azimuth (column): shape=(11950,), dtype=float64\n",
       "    elevation (column): shape=(11950,), dtype=float64\n",
       "    boresight_azel (column): shape=(11950, 4), dtype=float64\n",
       "    boresight_radec (column): shape=(11950, 4), dtype=float64\n",
       "    hwp_angle (column): shape=(11950,), dtype=float64\n",
       "    flags (column): shape=(11950,), dtype=uint8>"
      ]
     },
     "execution_count": 15,
     "metadata": {},
     "output_type": "execute_result"
    }
   ],
   "source": [
    "# Explore the data manager instance\n",
    "data.obs[0].shared"
   ]
  },
  {
   "cell_type": "code",
   "execution_count": 16,
   "id": "7ea9c914-1321-462d-9fc8-d9b0b362a8ec",
   "metadata": {},
   "outputs": [
    {
     "data": {
      "text/plain": [
       "Text(0, 0.5, 'Elevation')"
      ]
     },
     "execution_count": 16,
     "metadata": {},
     "output_type": "execute_result"
    },
    {
     "data": {
      "image/png": "[encoded data removed]",
      "text/plain": [
       "<Figure size 600x100 with 1 Axes>"
      ]
     },
     "metadata": {},
     "output_type": "display_data"
    },
    {
     "data": {
      "image/png": "[encoded data removed]",
      "text/plain": [
       "<Figure size 600x100 with 1 Axes>"
      ]
     },
     "metadata": {},
     "output_type": "display_data"
    },
    {
     "data": {
      "image/png": "[encoded data removed]",
      "text/plain": [
       "<Figure size 600x100 with 1 Axes>"
      ]
     },
     "metadata": {},
     "output_type": "display_data"
    }
   ],
   "source": [
    "# Plot\n",
    "fig,ax = plt.subplots(1,1,figsize=(6,1))\n",
    "ax.plot(data.obs[0].shared['times'][:100], data.obs[0].shared['hwp_angle'][:100])\n",
    "ax.set_xlabel('sec')\n",
    "ax.set_ylabel('HWP angle [rad]')\n",
    "\n",
    "fig,ax = plt.subplots(1,1,figsize=(6,1))\n",
    "ax.plot(data.obs[0].shared['times'], np.array(data.obs[0].shared['azimuth'])*180./np.pi)\n",
    "ax.set_xlabel('sec')\n",
    "ax.set_ylabel('Azimuth [deg]')\n",
    "\n",
    "fig,ax = plt.subplots(1,1,figsize=(6,1))\n",
    "ax.plot(data.obs[0].shared['times'], data.obs[0].shared['elevation'])\n",
    "ax.set_xlabel('sec')\n",
    "ax.set_ylabel('Elevation')"
   ]
  },
  {
   "cell_type": "markdown",
   "id": "419d4fc0-f552-48ec-8ed2-646590bbfc17",
   "metadata": {},
   "source": [
    "### Pointing"
   ]
  },
  {
   "cell_type": "code",
   "execution_count": 17,
   "id": "e23c8345-86ca-4da5-91cd-3ffc581e1549",
   "metadata": {},
   "outputs": [],
   "source": [
    "data, det_pointing_radec = apply_det_pointing_radec(data, sim_gnd)\n",
    "data, det_pointing_azel = apply_det_pointing_azel(data, sim_gnd)"
   ]
  },
  {
   "cell_type": "code",
   "execution_count": 18,
   "id": "177097fa-9472-49f3-937d-48f8a41f68a6",
   "metadata": {},
   "outputs": [
    {
     "data": {
      "text/plain": [
       "Text(0, 0.5, 'azimuth [deg]')"
      ]
     },
     "execution_count": 18,
     "metadata": {},
     "output_type": "execute_result"
    },
    {
     "data": {
      "image/png": "[encoded data removed]",
      "text/plain": [
       "<Figure size 600x200 with 1 Axes>"
      ]
     },
     "metadata": {},
     "output_type": "display_data"
    }
   ],
   "source": [
    "fig,ax = plt.subplots(1,1,figsize=(6,2))\n",
    "ax.plot(data.obs[0].shared['times'], np.array(data.obs[0].shared['azimuth'])*180./np.pi)\n",
    "ax.set_ylabel('azimuth [deg]')"
   ]
  },
  {
   "cell_type": "markdown",
   "id": "23ac1efd-7240-407e-9d0d-7ef43b506471",
   "metadata": {},
   "source": [
    "### Pixel pointing healpix"
   ]
  },
  {
   "cell_type": "code",
   "execution_count": 19,
   "id": "ba06f060-fd8a-4425-98ac-7e7d71b653f7",
   "metadata": {},
   "outputs": [],
   "source": [
    "nside_out = 512"
   ]
  },
  {
   "cell_type": "code",
   "execution_count": 25,
   "id": "1b939687-6517-4d88-b797-821dd39bde96",
   "metadata": {},
   "outputs": [
    {
     "ename": "NameError",
     "evalue": "name 'apply_pixels_radec' is not defined",
     "output_type": "error",
     "traceback": [
      "\u001b[0;31m---------------------------------------------------------------------------\u001b[0m",
      "\u001b[0;31mNameError\u001b[0m                                 Traceback (most recent call last)",
      "Cell \u001b[0;32mIn[25], line 1\u001b[0m\n\u001b[0;32m----> 1\u001b[0m data, pixels_radec \u001b[38;5;241m=\u001b[39m \u001b[43mapply_pixels_radec\u001b[49m(data)\n",
      "\u001b[0;31mNameError\u001b[0m: name 'apply_pixels_radec' is not defined"
     ]
    }
   ],
   "source": [
    "data, pixels_radec = apply_pixels_radec(data, det_pointing_radec)"
   ]
  },
  {
   "cell_type": "markdown",
   "id": "e0cdca9f-7197-4897-8551-17f3f5250625",
   "metadata": {},
   "source": [
    "### Stokes Weights Radec"
   ]
  },
  {
   "cell_type": "code",
   "execution_count": null,
   "id": "a15b767d-1c6c-4879-aa18-153e75f63df4",
   "metadata": {},
   "outputs": [],
   "source": [
    "data, weights_radec = apply_weights_radec(data, det_pointing_radec)"
   ]
  },
  {
   "cell_type": "markdown",
   "id": "0c49fcbb-bc25-4d20-86c9-70bb0355171c",
   "metadata": {
    "editable": true,
    "slideshow": {
     "slide_type": ""
    },
    "tags": []
   },
   "source": [
    "### Add signal\n",
    "\n",
    "Here we use as input the HEALPix format map that was generated in [Sec. 2](Sec2_Sky_maps.ipynb) and scan it to a detector timestream."
   ]
  },
  {
   "cell_type": "code",
   "execution_count": null,
   "id": "0e890209-696b-46b8-8d7e-c941afca641b",
   "metadata": {
    "editable": true,
    "slideshow": {
     "slide_type": ""
    },
    "tags": []
   },
   "outputs": [],
   "source": [
    "# Input map: signal only\n",
    "file = 'input_maps/cmb_SAT_f090_ns512.fits'\n",
    "IQUmap = hp.read_map(file, field=[0,1,2])"
   ]
  },
  {
   "cell_type": "code",
   "execution_count": null,
   "id": "5c840b9d-d172-4609-8177-0a62854cc1a7",
   "metadata": {},
   "outputs": [],
   "source": [
    "npol = 3\n",
    "for p in np.arange(npol):\n",
    "    hp.mollview(IQU[p])"
   ]
  },
  {
   "cell_type": "code",
   "execution_count": null,
   "id": "55dfc813-6997-4d2d-9bcb-21688cca3b4c",
   "metadata": {},
   "outputs": [],
   "source": [
    "data, scan_map = apply_scan_map(data, file, pixels_radec, weights_radec)"
   ]
  },
  {
   "cell_type": "markdown",
   "id": "0c0b2e86-6e6f-446a-b504-2a5fbfe061bd",
   "metadata": {},
   "source": [
    "### Add noise"
   ]
  },
  {
   "cell_type": "code",
   "execution_count": null,
   "id": "bbae29a6-cba6-4ed0-86bf-3d9761a68857",
   "metadata": {},
   "outputs": [],
   "source": [
    "data_after_noise_model, noise_model = apply_noise_model(data)"
   ]
  },
  {
   "cell_type": "code",
   "execution_count": null,
   "id": "52fb3880-8b83-4aef-81c0-1bb431735841",
   "metadata": {},
   "outputs": [],
   "source": [
    "data, sim_noise = apply_sim_noise(data)"
   ]
  },
  {
   "cell_type": "markdown",
   "id": "783ce0b2-1f82-46cd-9b23-de91d405fd4a",
   "metadata": {
    "editable": true,
    "slideshow": {
     "slide_type": ""
    },
    "tags": []
   },
   "source": [
    "### Save HDF5"
   ]
  },
  {
   "cell_type": "code",
   "execution_count": null,
   "id": "ce97bdd2-f625-4826-9bdb-49fecd53c257",
   "metadata": {},
   "outputs": [],
   "source": [
    "save_hdf5 = toast.ops.SaveHDF5(name=\"save_hdf5\")\n",
    "hdf5_path = os.path.join('outputs', \"hdf5\")\n",
    "if not os.path.isdir(hdf5_path):\n",
    "    os.makedirs(hdf5_path)\n",
    "save_hdf5.volume = hdf5_path\n",
    "save_hdf5.apply(data)"
   ]
  }
 ],
 "metadata": {
  "kernelspec": {
   "display_name": "Python 3 (ipykernel)",
   "language": "python",
   "name": "python3"
  },
  "language_info": {
   "codemirror_mode": {
    "name": "ipython",
    "version": 3
   },
   "file_extension": ".py",
   "mimetype": "text/x-python",
   "name": "python",
   "nbconvert_exporter": "python",
   "pygments_lexer": "ipython3",
   "version": "3.10.8"
  }
 },
 "nbformat": 4,
 "nbformat_minor": 5
}
