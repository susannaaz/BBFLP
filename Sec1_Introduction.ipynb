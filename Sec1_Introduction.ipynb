{
 "cells": [
  {
   "cell_type": "markdown",
   "metadata": {
    "colab_type": "text",
    "id": "6DA_syE9TrBh"
   },
   "source": [
    "# Overview and Introduction"
   ]
  },
  {
   "cell_type": "markdown",
   "metadata": {
    "colab_type": "text",
    "id": "BiWWr-eSpHLu"
   },
   "source": [
    "These notebooks provide an overview for generating and pre-processing Simons Observatory (SO) SAT BB data products and an introduction to manipulating these products, using processes that have *already* been developed by numerous people within SO (it is to be though of as a collection of useful tools, currently intended for personal use). "
   ]
  },
  {
   "cell_type": "markdown",
   "metadata": {
    "colab_type": "text",
    "id": "b09xD3x0d2Kl"
   },
   "source": [
    "## What is discussed in these Notebooks\n",
    " \n",
    "Notebook Info | Value\n",
    "---|---\n",
    "Dependencies | `numpy`, `scipy`, `healpy`, `matplotlib`, `toast`, `sotodlib`, `pixell`. \n",
    "Contributors | Susanna Azzoni, Max Silva-Feaver, .....\n",
    "\n",
    "\n",
    "## Table of contents\n",
    "\n",
    " --- \n",
    "> [Section 1 - Introduction](Sec1_Introduction.ipynb): Overview of contents.\n",
    "\n",
    "> [Section 2 - Sky maps](Sec2_Sky_maps.ipynb): How to generate simple sky maps, including CMB and/or foregrounds using [PySM](https://github.com/galsci/pysm). Ongoing: integrate with existing tools (e.g. [susannaaz/BBSims](https://github.com/susannaaz/BBSims) or [simonsobs/BBSims](https://github.com/simonsobs/BBSims)) based on [PySM](https://github.com/galsci/pysm) and [CAMB](https://github.com/cmbant/CAMB).\n",
    "\n",
    "> [Section 3 - Schedule](Sec3_Make_and_Analyze_schedule.ipynb): Guide to creating a schedule using toast, reading a schedule, and splitting it into singular observations. \n",
    "\n",
    "> [Section 4 - TOD simulation](Sec4_Simulate_TOD_breakdown.ipynb): Introduction to [toast3](https://github.com/hpc4cmb/toast/tree/toast3) and [sotodlib](https://github.com/simonsobs/sotodlib). Here we explain how to generate Time-Ordered-Data (TOD) simulations. It is explained how to create a focal plane, and from a given schedule create a telescope, include boresight pointing information, weights, add the sky signal from some input map (that can be generated as shown in [Section 2](Sec2_Sky_maps.ipynb), and noise.  This is saved as an AxisManager in hdf5 format, which is compatible with the latest [PWG SAT simulations](https://github.com/simonsobs/pwg-scripts/tree/master/pwg-tds/pipe-s0002/v6), and can be easily coverted into books, to resemble the format of actual observations. Section 3 and Section 4 reproduce what is created with toast as in [Simulation_tod_TOAST](Simulate_tod_TOAST.ipynb), but allows us to visualize the intermediate steps and modify them without running the full simulation.\n",
    "\n",
    "> [Section 5 - Pre-process the data and make maps](Sec5_Preprocess_TOD_Make_maps.ipynb): Demonstration of methods to pre-process the TOD using different operations and filters applied to the data, and create maps using filter-bin map-making as implemented in sotodlib. This emulates how the real data will be processed. A demonstration of methods to convert maps between CAR and HEALPix format is included.\n",
    "\n",
    "> [Section 6 - Master pipeline](Sec6_Master_pipeline.ipynb): Integration of BBMaster ongoing!\n"
   ]
  },
  {
   "cell_type": "markdown",
   "metadata": {},
   "source": [
    "#### Continue to the next section\n",
    "\n",
    "Go to [Section 2 - Sky maps](Sec2_Sky_maps.ipynb)."
   ]
  }
 ],
 "metadata": {
  "colab": {
   "collapsed_sections": [
    "7wuon2PcQDH3",
    "UqVls-28Fe6d",
    "hRBTzr5ghknb",
    "smN7aD_qfS0X",
    "Hdr6rmILNbUE",
    "lap_xzTkn5s5",
    "ydVE2Jvup42D",
    "LsvxgUOow66A",
    "sRfS65NaDKuX"
   ],
   "name": "Advanced ACT DR4 Combined data products ",
   "provenance": [],
   "toc_visible": true
  },
  "kernelspec": {
   "display_name": "Python 3 (ipykernel)",
   "language": "python",
   "name": "python3"
  },
  "language_info": {
   "codemirror_mode": {
    "name": "ipython",
    "version": 3
   },
   "file_extension": ".py",
   "mimetype": "text/x-python",
   "name": "python",
   "nbconvert_exporter": "python",
   "pygments_lexer": "ipython3",
   "version": "3.10.8"
  }
 },
 "nbformat": 4,
 "nbformat_minor": 4
}
